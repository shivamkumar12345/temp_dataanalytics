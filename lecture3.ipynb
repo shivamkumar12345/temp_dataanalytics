{
 "cells": [
  {
   "cell_type": "code",
   "execution_count": 3,
   "id": "8bae327e-003d-4737-99c6-02c043a99894",
   "metadata": {},
   "outputs": [
    {
     "name": "stdin",
     "output_type": "stream",
     "text": [
      " 5\n"
     ]
    },
    {
     "name": "stdout",
     "output_type": "stream",
     "text": [
      "A \n",
      "A B \n",
      "A B C \n",
      "A B C D \n",
      "A B C D E \n"
     ]
    }
   ],
   "source": [
    "n= int(input())\n",
    "for i  in range(1,n+1):\n",
    "    ch= 65\n",
    "    for j in range(i):\n",
    "        print(chr(ch + j),end=\" \")\n",
    "    print()"
   ]
  },
  {
   "cell_type": "code",
   "execution_count": 4,
   "id": "f1f0b8da-4ad7-4fd8-b3f0-728ee6339163",
   "metadata": {},
   "outputs": [
    {
     "ename": "TypeError",
     "evalue": "'str' object does not support item assignment",
     "output_type": "error",
     "traceback": [
      "\u001b[1;31m---------------------------------------------------------------------------\u001b[0m",
      "\u001b[1;31mTypeError\u001b[0m                                 Traceback (most recent call last)",
      "Cell \u001b[1;32mIn[4], line 3\u001b[0m\n\u001b[0;32m      1\u001b[0m \u001b[38;5;66;03m#string method\u001b[39;00m\n\u001b[0;32m      2\u001b[0m s\u001b[38;5;241m=\u001b[39m\u001b[38;5;124m'\u001b[39m\u001b[38;5;124mabc\u001b[39m\u001b[38;5;124m'\u001b[39m\n\u001b[1;32m----> 3\u001b[0m \u001b[43ms\u001b[49m\u001b[43m[\u001b[49m\u001b[38;5;241;43m2\u001b[39;49m\u001b[43m]\u001b[49m \u001b[38;5;241m=\u001b[39m\u001b[38;5;124m'\u001b[39m\u001b[38;5;124md\u001b[39m\u001b[38;5;124m'\u001b[39m\n\u001b[0;32m      4\u001b[0m \u001b[38;5;28mprint\u001b[39m(s)\n",
      "\u001b[1;31mTypeError\u001b[0m: 'str' object does not support item assignment"
     ]
    }
   ],
   "source": [
    "#string assignment\n",
    "s='abc'\n",
    "s[2] ='d'\n",
    "print(s)"
   ]
  },
  {
   "cell_type": "code",
   "execution_count": 6,
   "id": "9f469fa5-b0aa-4735-9225-0c7eaf33c6e6",
   "metadata": {},
   "outputs": [
    {
     "name": "stdout",
     "output_type": "stream",
     "text": [
      "abcd\n"
     ]
    }
   ],
   "source": [
    "s=\"abc\"\n",
    "s+='d'\n",
    "print(s)"
   ]
  },
  {
   "cell_type": "code",
   "execution_count": 23,
   "id": "9cb46a0e-01eb-49d0-b916-e963d3de71f8",
   "metadata": {},
   "outputs": [
    {
     "name": "stdout",
     "output_type": "stream",
     "text": [
      " codin\n",
      "['    coding', 'blocks   ']\n",
      "coding_blocks\n",
      "    CODING_BLOCKS   \n",
      "Coding_blocks\n",
      "2\n",
      "    hacker_blocks   \n",
      "5\n"
     ]
    }
   ],
   "source": [
    "#string method\n",
    "str=\"    coding_blocks   \"\n",
    "#1. substr through slicing\n",
    "substr = str[3:9:]\n",
    "print(substr)\n",
    "#2. split\n",
    "newString = str.split('_')\n",
    "print(newString)\n",
    "#3. trim method through strip, lstrip, rstrip\n",
    "trimedString = str.strip()\n",
    "print(trimedString)\n",
    "\n",
    "#lower and upper and capetalize\n",
    "upper = str.upper()\n",
    "print(upper)\n",
    "\n",
    "strippedString = str.strip()\n",
    "capitalize = strippedString.capitalize()\n",
    "print(capitalize)\n",
    "\n",
    "#count char\n",
    "count_o = str.count('o')\n",
    "print(count_o)\n",
    "\n",
    "#replace\n",
    "replacedString =str.replace('coding','hacker')\n",
    "print(replacedString)\n",
    "\n",
    "#find \n",
    "isPresent = str.find('o')\n",
    "print(isPresent)\n",
    "\n",
    "\n"
   ]
  },
  {
   "cell_type": "code",
   "execution_count": 24,
   "id": "20c0e690-a53d-43c3-95be-e3c62d62fcc9",
   "metadata": {},
   "outputs": [
    {
     "name": "stdout",
     "output_type": "stream",
     "text": [
      "2\n"
     ]
    }
   ],
   "source": [
    "count=0\n",
    "for i in str:\n",
    "    if i== 'o':\n",
    "        count+=1\n",
    "print(count)"
   ]
  },
  {
   "cell_type": "code",
   "execution_count": 28,
   "id": "fed408b9-4d77-43c7-a140-e2bea55ea557",
   "metadata": {},
   "outputs": [
    {
     "name": "stdin",
     "output_type": "stream",
     "text": [
      "Enter a number 10101\n",
      "Enter currency $\n"
     ]
    },
    {
     "name": "stdout",
     "output_type": "stream",
     "text": [
      " i have 10101 $\n"
     ]
    }
   ],
   "source": [
    "#format\n",
    "rs = int(input(\"Enter a number\"))\n",
    "type = input(\"Enter currency\")\n",
    "str =\" i have {0} {1}\".format(rs,type)\n",
    "print(str)"
   ]
  },
  {
   "cell_type": "code",
   "execution_count": 30,
   "id": "3e0296f1-c705-46ae-9be1-4111ff456667",
   "metadata": {},
   "outputs": [
    {
     "name": "stdout",
     "output_type": "stream",
     "text": [
      "coding$blocks$lucknow\n"
     ]
    }
   ],
   "source": [
    "#join method\n",
    "l=['coding','blocks','lucknow']\n",
    "str = \"$\".join(l)\n",
    "print(str)"
   ]
  },
  {
   "cell_type": "code",
   "execution_count": 32,
   "id": "9a75ba45-74dc-4f14-ad43-a79492d1a47c",
   "metadata": {},
   "outputs": [
    {
     "name": "stdin",
     "output_type": "stream",
     "text": [
      "Enter ypur password cbl@1234\n"
     ]
    },
    {
     "name": "stdout",
     "output_type": "stream",
     "text": [
      "Invalid Password\n"
     ]
    }
   ],
   "source": [
    "password = input(\"Enter ypur password\")\n",
    "isLength = len(password) >=8\n",
    "isUpper, isLower, isDigit, isSpecial = False, False, False, False\n",
    "for i in password:\n",
    "    if(i.isupper()):\n",
    "        isUpper= True\n",
    "    elif (i.islower()):\n",
    "        isLower = True\n",
    "    elif ( i.isdigit()):\n",
    "        isDigit = True\n",
    "    else :\n",
    "        isSpecial =True\n",
    "\n",
    "if(isLength and isUpper and isLower and isSpecial):\n",
    "    print(\"Valid Password\")\n",
    "else:\n",
    "    print(\"Invalid Password\")"
   ]
  },
  {
   "cell_type": "markdown",
   "id": "29b6a101-1ed8-4e88-bf3f-daca74914870",
   "metadata": {},
   "source": [
    "## List"
   ]
  },
  {
   "cell_type": "code",
   "execution_count": 55,
   "id": "1465a081-634a-4742-b508-b5e895bd7e9d",
   "metadata": {},
   "outputs": [
    {
     "name": "stdout",
     "output_type": "stream",
     "text": [
      "1 2 3 4 mango apple 1 ,2 ,3 ,4 ,mango ,apple ,"
     ]
    }
   ],
   "source": [
    "l= [1,2,3,4,'mango','apple']\n",
    "# print(l[-1][0])\n",
    "for i in range(len(l)):\n",
    "    print(l[i],end=\" \")\n",
    "\n",
    "for i in l:\n",
    "    print(i,end=\" ,\")"
   ]
  },
  {
   "cell_type": "code",
   "execution_count": 56,
   "id": "955e15d5-b4a5-47ef-9640-7bdfb2a1b78b",
   "metadata": {},
   "outputs": [
    {
     "name": "stdout",
     "output_type": "stream",
     "text": [
      "[3, 'apple']\n",
      "[1, 2, 3, 4, 'mango', 'apple', 'orange']\n",
      "[1, 2, 'python', 3, 4, 'mango', 'apple', 'orange']\n",
      "[2, 'python', 3, 4, 'mango', 'apple', 'orange']\n",
      "[2, 'python', 3, 4, 'mango', 'apple', 'orange', 'JAva', 'C++']\n"
     ]
    }
   ],
   "source": [
    "#slicing\n",
    "print(l[2::3])\n",
    "\n",
    "#method\n",
    "#1. append\n",
    "l.append('orange')\n",
    "print(l)\n",
    "\n",
    "#2. insert\n",
    "l.insert(2,'python')\n",
    "print(l)\n",
    "\n",
    "#3.pop\n",
    "l.pop(0)\n",
    "print(l)\n",
    "\n",
    "#extend\n",
    "l2 =['JAva',\"C++\"]\n",
    "l.extend(l2)\n",
    "print(l)"
   ]
  },
  {
   "cell_type": "code",
   "execution_count": 59,
   "id": "72b0683f-1e7a-4da9-ab3f-e724a9fc07ae",
   "metadata": {},
   "outputs": [
    {
     "name": "stdout",
     "output_type": "stream",
     "text": [
      "[1, 2, 3, 4, 5, 6, 7, 8]\n"
     ]
    }
   ],
   "source": [
    "# diff b/w append and extend\n",
    "l=[1,2,3,4]\n",
    "l1= [5,6,7,8]\n",
    "# l.append(l1)\n",
    "l.extend(l1)\n",
    "print(l)"
   ]
  },
  {
   "cell_type": "code",
   "execution_count": 61,
   "id": "d1d97bac-e86c-4fef-8a85-84b37fdb89b4",
   "metadata": {},
   "outputs": [
    {
     "name": "stdout",
     "output_type": "stream",
     "text": [
      "[1, 2, 3, 'four', 5, 6, 7, 8]\n"
     ]
    }
   ],
   "source": [
    "# replace\n",
    "l[3] ='four'\n",
    "print(l)"
   ]
  },
  {
   "cell_type": "code",
   "execution_count": 65,
   "id": "6ed487e4-0f48-4768-8020-eaf90d20c760",
   "metadata": {},
   "outputs": [
    {
     "name": "stdout",
     "output_type": "stream",
     "text": [
      "[2, 10] [5, 11, 15, 13]\n"
     ]
    }
   ],
   "source": [
    "l=[2,5,10,11,15,13]\n",
    "# l1 =[2,10]\n",
    "# l2= [5,11,15,13]\n",
    "l1= []\n",
    "l2=[]\n",
    "for i in l:\n",
    "    if(i&1):\n",
    "        l1.append(i)\n",
    "print(l1, l2)"
   ]
  },
  {
   "cell_type": "code",
   "execution_count": 70,
   "id": "18319f16-8476-4a29-9dbd-e820523052c2",
   "metadata": {},
   "outputs": [
    {
     "ename": "TypeError",
     "evalue": "isinstance() arg 2 must be a type, a tuple of types, or a union",
     "output_type": "error",
     "traceback": [
      "\u001b[1;31m---------------------------------------------------------------------------\u001b[0m",
      "\u001b[1;31mTypeError\u001b[0m                                 Traceback (most recent call last)",
      "Cell \u001b[1;32mIn[70], line 6\u001b[0m\n\u001b[0;32m      3\u001b[0m l2\u001b[38;5;241m=\u001b[39m[]\n\u001b[0;32m      5\u001b[0m \u001b[38;5;28;01mfor\u001b[39;00m i \u001b[38;5;129;01min\u001b[39;00m l:\n\u001b[1;32m----> 6\u001b[0m     \u001b[38;5;28;01mif\u001b[39;00m(\u001b[38;5;28;43misinstance\u001b[39;49m\u001b[43m(\u001b[49m\u001b[43mi\u001b[49m\u001b[43m,\u001b[49m\u001b[43m \u001b[49m\u001b[38;5;28;43mstr\u001b[39;49m\u001b[43m)\u001b[49m):\n\u001b[0;32m      7\u001b[0m         l1\u001b[38;5;241m.\u001b[39mappned(i)\n\u001b[0;32m      8\u001b[0m     \u001b[38;5;28;01melif\u001b[39;00m (\u001b[38;5;28misinstance\u001b[39m(i, \u001b[38;5;28mint\u001b[39m)):\n",
      "\u001b[1;31mTypeError\u001b[0m: isinstance() arg 2 must be a type, a tuple of types, or a union"
     ]
    }
   ],
   "source": [
    "l=[1,2,'helo','great',100]\n",
    "l1=[]\n",
    "l2=[]\n",
    "\n",
    "for i in l:\n",
    "    if(isinstance(i, str)):\n",
    "        l1.appned(i)\n",
    "    elif (isinstance(i, int)):\n",
    "        l2.append(i)\n",
    "print(l1,l2)"
   ]
  },
  {
   "cell_type": "code",
   "execution_count": 72,
   "id": "84e3af21-c0dc-49c9-a314-7cda6fd115de",
   "metadata": {},
   "outputs": [
    {
     "name": "stdout",
     "output_type": "stream",
     "text": [
      "[1, 4, 9, 16]\n"
     ]
    }
   ],
   "source": [
    "l =[1,2,3,4]\n",
    "for i in range(len(l)):\n",
    "    l[i] = l[i]**2\n",
    "print(l)"
   ]
  },
  {
   "cell_type": "code",
   "execution_count": null,
   "id": "5b752641-a50f-4eea-a9e4-a505d7991aa4",
   "metadata": {},
   "outputs": [],
   "source": []
  }
 ],
 "metadata": {
  "kernelspec": {
   "display_name": "Python 3 (ipykernel)",
   "language": "python",
   "name": "python3"
  },
  "language_info": {
   "codemirror_mode": {
    "name": "ipython",
    "version": 3
   },
   "file_extension": ".py",
   "mimetype": "text/x-python",
   "name": "python",
   "nbconvert_exporter": "python",
   "pygments_lexer": "ipython3",
   "version": "3.11.5"
  }
 },
 "nbformat": 4,
 "nbformat_minor": 5
}
