{
 "cells": [
  {
   "cell_type": "code",
   "execution_count": 4,
   "id": "9b628b0c-cdf2-4401-9fc6-5d4c6745a37b",
   "metadata": {},
   "outputs": [
    {
     "name": "stdout",
     "output_type": "stream",
     "text": [
      "10 20\n"
     ]
    }
   ],
   "source": [
    "a =10\n",
    "b=20\n",
    "print(a, end='\\n')\n",
    "print(b)"
   ]
  },
  {
   "cell_type": "code",
   "execution_count": 7,
   "id": "a6394769-3cfa-4d12-96e7-a0c48ec66fe7",
   "metadata": {},
   "outputs": [
    {
     "name": "stdin",
     "output_type": "stream",
     "text": [
      "Enter a number 20\n",
      "Enter a number 30\n"
     ]
    },
    {
     "name": "stdout",
     "output_type": "stream",
     "text": [
      "50\n"
     ]
    }
   ],
   "source": [
    "a = int(input(\"Enter a number\"))\n",
    "b= int(input(\"Enter a number\"))\n",
    "print(a+b)"
   ]
  },
  {
   "cell_type": "code",
   "execution_count": 8,
   "id": "7b64189d-6858-4412-999c-9a350910a75b",
   "metadata": {},
   "outputs": [
    {
     "name": "stdout",
     "output_type": "stream",
     "text": [
      "(16+11j)\n"
     ]
    }
   ],
   "source": [
    "c1= 2+ 3j\n",
    "c2= 5 - 2j\n",
    "print(c1* c2)"
   ]
  },
  {
   "cell_type": "markdown",
   "id": "147a3787-477d-433f-8ce8-adc5da7be1eb",
   "metadata": {},
   "source": [
    "## operator\n"
   ]
  },
  {
   "cell_type": "code",
   "execution_count": 12,
   "id": "3afd7f05-3257-4442-84c7-c3d74d8be4da",
   "metadata": {},
   "outputs": [
    {
     "name": "stdout",
     "output_type": "stream",
     "text": [
      "8\n",
      "3.5 3 1\n"
     ]
    }
   ],
   "source": [
    "a = 2**3\n",
    "print(a)\n",
    "b = 7/2\n",
    "c= 7//2\n",
    "m = 5%2\n",
    "print(b,c,m)"
   ]
  },
  {
   "cell_type": "code",
   "execution_count": 13,
   "id": "bd4d38fd-6f16-4a93-ac09-6583a2e90487",
   "metadata": {},
   "outputs": [
    {
     "name": "stdout",
     "output_type": "stream",
     "text": [
      "-22.0\n"
     ]
    }
   ],
   "source": [
    "exp1 = 4+16//5*6//3/2+7-6**2\n",
    "print(exp1)"
   ]
  },
  {
   "cell_type": "code",
   "execution_count": 16,
   "id": "6b872e8a-4723-4086-90c0-a33704383fa6",
   "metadata": {},
   "outputs": [
    {
     "name": "stdin",
     "output_type": "stream",
     "text": [
      "Enter a number 35\n"
     ]
    },
    {
     "name": "stdout",
     "output_type": "stream",
     "text": [
      "Odd\n"
     ]
    }
   ],
   "source": [
    "n = int(input(\"Enter a number\"))\n",
    "if(n&1 != 1):\n",
    "    print(\"Even\")\n",
    "else:\n",
    "    print(\"Odd\")"
   ]
  },
  {
   "cell_type": "code",
   "execution_count": 17,
   "id": "beb96cc5-41e7-4e45-8a61-242416471992",
   "metadata": {},
   "outputs": [
    {
     "name": "stdin",
     "output_type": "stream",
     "text": [
      " 5\n",
      " 10\n",
      " 15\n"
     ]
    },
    {
     "name": "stdout",
     "output_type": "stream",
     "text": [
      "15\n"
     ]
    }
   ],
   "source": [
    "#largest b/w three number\n",
    "a = int(input())\n",
    "b = int(input())\n",
    "c = int(input())\n",
    "if(a> b and a>c):\n",
    "    print(a)\n",
    "elif (b>a and b>c):\n",
    "    print(b)\n",
    "else:\n",
    "    print(c)\n",
    "    "
   ]
  },
  {
   "cell_type": "code",
   "execution_count": 18,
   "id": "d123c927-ed6b-4184-9de2-01be17fe38f3",
   "metadata": {},
   "outputs": [
    {
     "name": "stdin",
     "output_type": "stream",
     "text": [
      " 15\n",
      " 12\n",
      " 19\n"
     ]
    },
    {
     "name": "stdout",
     "output_type": "stream",
     "text": [
      "15\n"
     ]
    }
   ],
   "source": [
    "# 2nd largest b/w three\n",
    "a = int(input())\n",
    "b = int(input())\n",
    "c = int(input())\n",
    "if(a> b and a<c):\n",
    "    print(a)\n",
    "elif (b>a and b<c):\n",
    "    print(b)\n",
    "else:\n",
    "    print(c)"
   ]
  },
  {
   "cell_type": "code",
   "execution_count": 19,
   "id": "cbf35005-0330-48a1-8dcc-b58a9a9be3c8",
   "metadata": {},
   "outputs": [
    {
     "name": "stdin",
     "output_type": "stream",
     "text": [
      " A\n"
     ]
    },
    {
     "name": "stdout",
     "output_type": "stream",
     "text": [
      "Excellent\n"
     ]
    }
   ],
   "source": [
    "grade = input()\n",
    "match(grade):\n",
    "    case 'A':\n",
    "        print(\"Excellent\")\n",
    "    case 'B':\n",
    "        print(\"Need to be improved\")\n",
    "    case _:\n",
    "        print(\"Fail\")"
   ]
  },
  {
   "cell_type": "code",
   "execution_count": 21,
   "id": "f721c06a-a7e2-4746-a318-2cb04298fba0",
   "metadata": {},
   "outputs": [
    {
     "name": "stdout",
     "output_type": "stream",
     "text": [
      "1 2 3 4 5 6 7 8 9 "
     ]
    }
   ],
   "source": [
    "# while loop\n",
    "i=1\n",
    "while( i<10):\n",
    "    print(i,end= \" \")\n",
    "    i+=1\n"
   ]
  },
  {
   "cell_type": "code",
   "execution_count": 22,
   "id": "5d6c24b0-b88d-498b-8507-f79563b4ad45",
   "metadata": {},
   "outputs": [
    {
     "name": "stdout",
     "output_type": "stream",
     "text": [
      "1 2 4 7 11 16 "
     ]
    }
   ],
   "source": [
    "#print pattern 1,2,4,7,11,16\n",
    "i =1\n",
    "diff =1\n",
    "while(i<20):\n",
    "    print(i, end= \" \")\n",
    "    i += diff\n",
    "    diff +=1"
   ]
  },
  {
   "cell_type": "code",
   "execution_count": 23,
   "id": "1417ffa3-7275-4aa1-92e2-0c5671f67376",
   "metadata": {},
   "outputs": [
    {
     "name": "stdin",
     "output_type": "stream",
     "text": [
      " 5\n",
      " 12\n"
     ]
    },
    {
     "name": "stdout",
     "output_type": "stream",
     "text": [
      "1\n"
     ]
    }
   ],
   "source": [
    "a = int(input())\n",
    "b = int(input())\n",
    "while(b%a !=0):\n",
    "    r= b%a\n",
    "    b=a\n",
    "    a=r\n",
    "print(a)"
   ]
  },
  {
   "cell_type": "code",
   "execution_count": null,
   "id": "e1c67598-e1e5-43b3-b329-4adff3f4eeae",
   "metadata": {},
   "outputs": [],
   "source": []
  }
 ],
 "metadata": {
  "kernelspec": {
   "display_name": "Python 3 (ipykernel)",
   "language": "python",
   "name": "python3"
  },
  "language_info": {
   "codemirror_mode": {
    "name": "ipython",
    "version": 3
   },
   "file_extension": ".py",
   "mimetype": "text/x-python",
   "name": "python",
   "nbconvert_exporter": "python",
   "pygments_lexer": "ipython3",
   "version": "3.11.5"
  }
 },
 "nbformat": 4,
 "nbformat_minor": 5
}
