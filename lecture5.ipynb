{
 "cells": [
  {
   "cell_type": "code",
   "execution_count": 1,
   "id": "4fd29bf1-2176-4057-a80e-085f32637317",
   "metadata": {},
   "outputs": [
    {
     "name": "stdout",
     "output_type": "stream",
     "text": [
      "12 51\n"
     ]
    }
   ],
   "source": [
    "l=[1,2,7,10,11,15,17]\n",
    "even, odd =0,0\n",
    "for i in l:\n",
    "    if(i&1):\n",
    "        odd+=i\n",
    "    else:\n",
    "        even+=i\n",
    "print(even, odd)"
   ]
  },
  {
   "cell_type": "code",
   "execution_count": 4,
   "id": "0a7b692f-35a3-486b-a186-cde7a3df5eb4",
   "metadata": {},
   "outputs": [
    {
     "name": "stdin",
     "output_type": "stream",
     "text": [
      "Enter a string codingblocks\n"
     ]
    },
    {
     "name": "stdout",
     "output_type": "stream",
     "text": [
      "{'c': 2, 'o': 2, 'd': 1, 'i': 1, 'n': 1, 'g': 1, 'b': 1, 'l': 1, 'k': 1, 's': 1}\n"
     ]
    }
   ],
   "source": [
    "str = input(\"Enter a string\")\n",
    "d={}\n",
    "for ch in str:\n",
    "    if(d.get(ch) == None):\n",
    "        d[ch] =1\n",
    "    else:\n",
    "        d[ch] +=1\n",
    "print(d)"
   ]
  },
  {
   "cell_type": "code",
   "execution_count": 6,
   "id": "d0959351-49be-4cfb-8d87-a91468b280fc",
   "metadata": {},
   "outputs": [
    {
     "name": "stdout",
     "output_type": "stream",
     "text": [
      "d i n g b l k s "
     ]
    }
   ],
   "source": [
    "# unique char\n",
    "for key,values in d.items():\n",
    "    if(values ==1):\n",
    "        print(key,end=\" \")"
   ]
  },
  {
   "cell_type": "code",
   "execution_count": 9,
   "id": "cba70528-34e8-4918-a581-111cd8ac7504",
   "metadata": {},
   "outputs": [
    {
     "name": "stdin",
     "output_type": "stream",
     "text": [
      "Enter a string ajduoybvaioe\n"
     ]
    },
    {
     "name": "stdout",
     "output_type": "stream",
     "text": [
      "[2, 1, 1, 2, 1]\n",
      "0\n"
     ]
    }
   ],
   "source": [
    "str= input(\"Enter a string\")\n",
    "d={'a':0,'e':0,'i':0,'o':0,'u':0}\n",
    "for i in str:\n",
    "    if(d.get(i) != None):\n",
    "        d[i]+=1\n",
    "ans=0\n",
    "# for key,value in d.items():\n",
    "#     ans+=value\n",
    "values = list(d.values())\n",
    "print(values)\n",
    "print(ans)"
   ]
  },
  {
   "cell_type": "markdown",
   "id": "d7f2d99b-15f7-46e5-a0a7-4006be858618",
   "metadata": {},
   "source": [
    "# set\n"
   ]
  },
  {
   "cell_type": "code",
   "execution_count": 19,
   "id": "1614fa04-f5a3-4405-911a-31cc685d8c49",
   "metadata": {},
   "outputs": [
    {
     "name": "stdout",
     "output_type": "stream",
     "text": [
      "{1, 2, 3, 4}\n"
     ]
    }
   ],
   "source": [
    "s = {1,2,3,4}\n",
    "s.add(1)\n",
    "print(s)"
   ]
  },
  {
   "cell_type": "code",
   "execution_count": 22,
   "id": "4cf8cf24-b360-40d3-bf16-c9e529d38201",
   "metadata": {},
   "outputs": [
    {
     "ename": "NameError",
     "evalue": "name 'Sets' is not defined",
     "output_type": "error",
     "traceback": [
      "\u001b[1;31m---------------------------------------------------------------------------\u001b[0m",
      "\u001b[1;31mNameError\u001b[0m                                 Traceback (most recent call last)",
      "Cell \u001b[1;32mIn[22], line 2\u001b[0m\n\u001b[0;32m      1\u001b[0m l\u001b[38;5;241m=\u001b[39m[\u001b[38;5;241m1\u001b[39m,\u001b[38;5;241m2\u001b[39m,\u001b[38;5;241m3\u001b[39m,\u001b[38;5;241m4\u001b[39m,\u001b[38;5;241m5\u001b[39m,\u001b[38;5;241m1\u001b[39m,\u001b[38;5;241m3\u001b[39m,\u001b[38;5;241m5\u001b[39m,\u001b[38;5;241m4\u001b[39m]\n\u001b[1;32m----> 2\u001b[0m s\u001b[38;5;241m=\u001b[39m \u001b[43mSets\u001b[49m(l)\n\u001b[0;32m      3\u001b[0m \u001b[38;5;28mprint\u001b[39m(\u001b[38;5;28mlen\u001b[39m(s))\n",
      "\u001b[1;31mNameError\u001b[0m: name 'Sets' is not defined"
     ]
    }
   ],
   "source": [
    "l=[1,2,3,4,5,1,3,5,4]\n",
    "s= Sets(l)\n",
    "print(len(s))"
   ]
  },
  {
   "cell_type": "code",
   "execution_count": 23,
   "id": "63767e5f-27b2-4187-9b32-8ba645f66701",
   "metadata": {},
   "outputs": [
    {
     "ename": "TypeError",
     "evalue": "'dict' object is not callable",
     "output_type": "error",
     "traceback": [
      "\u001b[1;31m---------------------------------------------------------------------------\u001b[0m",
      "\u001b[1;31mTypeError\u001b[0m                                 Traceback (most recent call last)",
      "Cell \u001b[1;32mIn[23], line 1\u001b[0m\n\u001b[1;32m----> 1\u001b[0m thisset \u001b[38;5;241m=\u001b[39m \u001b[38;5;28;43mset\u001b[39;49m\u001b[43m(\u001b[49m\u001b[43m[\u001b[49m\u001b[38;5;124;43m\"\u001b[39;49m\u001b[38;5;124;43mapple\u001b[39;49m\u001b[38;5;124;43m\"\u001b[39;49m\u001b[43m,\u001b[49m\u001b[43m \u001b[49m\u001b[38;5;124;43m\"\u001b[39;49m\u001b[38;5;124;43mbanana\u001b[39;49m\u001b[38;5;124;43m\"\u001b[39;49m\u001b[43m,\u001b[49m\u001b[43m \u001b[49m\u001b[38;5;124;43m\"\u001b[39;49m\u001b[38;5;124;43mcherry\u001b[39;49m\u001b[38;5;124;43m\"\u001b[39;49m\u001b[43m]\u001b[49m\u001b[43m)\u001b[49m\n\u001b[0;32m      2\u001b[0m \u001b[38;5;28mprint\u001b[39m(thisset)\n",
      "\u001b[1;31mTypeError\u001b[0m: 'dict' object is not callable"
     ]
    }
   ],
   "source": [
    "thisset = set([\"apple\", \"banana\", \"cherry\"])\n",
    "print(thisset)"
   ]
  },
  {
   "cell_type": "code",
   "execution_count": null,
   "id": "763dbe56-f8d3-4bbc-9296-df19e6a43d44",
   "metadata": {},
   "outputs": [],
   "source": []
  }
 ],
 "metadata": {
  "kernelspec": {
   "display_name": "Python 3 (ipykernel)",
   "language": "python",
   "name": "python3"
  },
  "language_info": {
   "codemirror_mode": {
    "name": "ipython",
    "version": 3
   },
   "file_extension": ".py",
   "mimetype": "text/x-python",
   "name": "python",
   "nbconvert_exporter": "python",
   "pygments_lexer": "ipython3",
   "version": "3.11.5"
  }
 },
 "nbformat": 4,
 "nbformat_minor": 5
}
