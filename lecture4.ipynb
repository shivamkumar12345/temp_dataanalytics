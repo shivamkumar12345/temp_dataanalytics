{
 "cells": [
  {
   "cell_type": "code",
   "execution_count": 1,
   "id": "53f4621f-2e5f-4de4-b598-c25dafe6620e",
   "metadata": {},
   "outputs": [
    {
     "name": "stdin",
     "output_type": "stream",
     "text": [
      "Enter size of list 4\n",
      "Enter a number 1\n",
      "Enter a number 5\n",
      "Enter a number 3\n",
      "Enter a number 8\n"
     ]
    },
    {
     "name": "stdout",
     "output_type": "stream",
     "text": [
      "[1, 5, 3, 8]\n"
     ]
    }
   ],
   "source": [
    "l=[]\n",
    "n = int(input(\"Enter size of list\"))\n",
    "for i in range(n):\n",
    "    x= int(input(\"Enter a number\"))\n",
    "    l.append(x)\n",
    "print(l)"
   ]
  },
  {
   "cell_type": "code",
   "execution_count": 3,
   "id": "a7c4a9a2-7615-42de-857a-2320c2b4fd38",
   "metadata": {},
   "outputs": [
    {
     "name": "stdin",
     "output_type": "stream",
     "text": [
      "Enter row  number 3\n",
      "Enter column number 3\n",
      "Enter a  number 1\n",
      "Enter a  number 2\n",
      "Enter a  number 3\n",
      "Enter column number 3\n",
      "Enter a  number 5\n",
      "Enter a  number 9\n",
      "Enter a  number 10\n",
      "Enter column number 5\n",
      "Enter a  number 1\n",
      "Enter a  number 10\n",
      "Enter a  number 11\n",
      "Enter a  number 4\n",
      "Enter a  number 6\n"
     ]
    },
    {
     "name": "stdout",
     "output_type": "stream",
     "text": [
      "[[1, 2, 3], [5, 9, 10], [1, 10, 11, 4, 6]]\n"
     ]
    }
   ],
   "source": [
    "l=[]\n",
    "r= int(input(\"Enter row  number\"))\n",
    "for i in range(r):\n",
    "    temp=[]\n",
    "    col = int(input(\"Enter column number\"))\n",
    "    for j in range(col):\n",
    "        x= int(input(\"Enter a  number\"))\n",
    "        temp.append(x)\n",
    "    l.append(temp)\n",
    "print(l)"
   ]
  },
  {
   "cell_type": "markdown",
   "id": "e75f19f2-8493-46b4-8d7c-33052b409bdf",
   "metadata": {},
   "source": [
    "# list comprehension"
   ]
  },
  {
   "cell_type": "code",
   "execution_count": 7,
   "id": "ffa7e59b-ddc3-4c35-89be-c4145179d174",
   "metadata": {},
   "outputs": [
    {
     "name": "stdout",
     "output_type": "stream",
     "text": [
      "[1, 2, 3, 4, 5]\n",
      "[3, 4, 5, 6, 7]\n"
     ]
    }
   ],
   "source": [
    "l=[1,2,3,4,5]\n",
    "print(l)\n",
    "# for i in range(len(l)):\n",
    "#     l[i]= l[i]**2\n",
    "# print(l)\n",
    "l = [ l[i]+2 for i in range(len(l))]\n",
    "print(l)"
   ]
  },
  {
   "cell_type": "code",
   "execution_count": 10,
   "id": "170c82c1-900f-4824-bedf-c43a556fb03b",
   "metadata": {},
   "outputs": [
    {
     "name": "stdout",
     "output_type": "stream",
     "text": [
      "[3, 5, 7]\n"
     ]
    }
   ],
   "source": [
    "# list comprehension with if condition\n",
    "# odd=[]\n",
    "# for i in l:\n",
    "#     if(i&1):\n",
    "#         odd.append(i)\n",
    "# print(odd)\n",
    "\n",
    "odd =[i for i in l if(i&1) ]\n",
    "print(odd)"
   ]
  },
  {
   "cell_type": "code",
   "execution_count": 16,
   "id": "9e5b41eb-8227-4d72-9e98-bbc2fb96ba27",
   "metadata": {},
   "outputs": [
    {
     "name": "stdout",
     "output_type": "stream",
     "text": [
      "[1, 8, 9, 64, 25]\n"
     ]
    }
   ],
   "source": [
    "# list comprehension with if-else\n",
    "l=[1,2,3,4,5]\n",
    "# ans=[]\n",
    "# for i in l:\n",
    "#     if(i&1):\n",
    "#         ans.append(i**2)\n",
    "#     else:\n",
    "#         ans.append(i**3)\n",
    "# print(ans)\n",
    "ans = [i**2 if (i&1) else i**3 for i in l ]  \n",
    "print(ans)"
   ]
  },
  {
   "cell_type": "markdown",
   "id": "a87aa908-f811-498f-81fc-7285d91417e6",
   "metadata": {},
   "source": [
    "# tuple"
   ]
  },
  {
   "cell_type": "code",
   "execution_count": 20,
   "id": "91e455a7-ab79-45a0-a4fa-a5a6bebc3e02",
   "metadata": {},
   "outputs": [
    {
     "name": "stdout",
     "output_type": "stream",
     "text": [
      "1\n"
     ]
    }
   ],
   "source": [
    "t = (1,)\n",
    "for i in t:\n",
    "    print(i)"
   ]
  },
  {
   "cell_type": "code",
   "execution_count": 22,
   "id": "5fc64f58-a5bd-4ed6-a379-04c04458e979",
   "metadata": {},
   "outputs": [
    {
     "name": "stdout",
     "output_type": "stream",
     "text": [
      "<class 'tuple'>\n"
     ]
    }
   ],
   "source": [
    "n =(7,)\n",
    "print(type(n))"
   ]
  },
  {
   "cell_type": "code",
   "execution_count": 23,
   "id": "20084dab-e9f6-47a2-86b7-aaf4481a93c7",
   "metadata": {},
   "outputs": [
    {
     "name": "stdout",
     "output_type": "stream",
     "text": [
      "Ram 18 lucknow\n"
     ]
    }
   ],
   "source": [
    "data =(\"Ram\",18,\"lucknow\")\n",
    "name, age, address = data\n",
    "print(name,age,address)"
   ]
  },
  {
   "cell_type": "markdown",
   "id": "9b200fc9-2d94-48f0-bfcb-ebdc201698f1",
   "metadata": {},
   "source": [
    "# lambda function"
   ]
  },
  {
   "cell_type": "code",
   "execution_count": 24,
   "id": "fec3ee7f-315e-4bf5-9ffa-9f5f172f0d72",
   "metadata": {},
   "outputs": [
    {
     "name": "stdout",
     "output_type": "stream",
     "text": [
      "5\n"
     ]
    }
   ],
   "source": [
    "# def Add(a,b):\n",
    "#     return a+b\n",
    "\n",
    "# ans =Add(2,3)\n",
    "# print(ans)\n",
    "add =lambda a,b:a+b\n",
    "print(add(2,3))"
   ]
  },
  {
   "cell_type": "code",
   "execution_count": 26,
   "id": "d736d391-7cfb-4183-bc8a-ebadd30c6665",
   "metadata": {},
   "outputs": [
    {
     "name": "stdout",
     "output_type": "stream",
     "text": [
      "True\n"
     ]
    }
   ],
   "source": [
    "evenOdd = lambda n: n%2==0\n",
    "print(evenOdd(4))"
   ]
  },
  {
   "cell_type": "markdown",
   "id": "e3b137cd-2bb6-43bc-a0d2-46f6a43040e8",
   "metadata": {},
   "source": [
    "# map and filter"
   ]
  },
  {
   "cell_type": "code",
   "execution_count": 28,
   "id": "b161f848-b9d9-41a0-a765-bb87446485c9",
   "metadata": {},
   "outputs": [
    {
     "name": "stdout",
     "output_type": "stream",
     "text": [
      "[20, 24, 16, 21, 26]\n"
     ]
    }
   ],
   "source": [
    "l=[15,19,11,16,21]\n",
    "newList = list(map(lambda x : x+5,l))\n",
    "print(newList)"
   ]
  },
  {
   "cell_type": "code",
   "execution_count": 29,
   "id": "5972b9cd-0ab2-4182-98ba-e9f7bdcbed6c",
   "metadata": {},
   "outputs": [
    {
     "name": "stdout",
     "output_type": "stream",
     "text": [
      "[20, 24, 16, 21, 26]\n"
     ]
    }
   ],
   "source": [
    "def add5(x):\n",
    "    return x+5\n",
    "newList = list(map(add5,l))\n",
    "print(newList)"
   ]
  },
  {
   "cell_type": "code",
   "execution_count": 32,
   "id": "a1efafaa-f34c-4f61-ac4b-c6b718cc0d47",
   "metadata": {},
   "outputs": [
    {
     "name": "stdout",
     "output_type": "stream",
     "text": [
      "[16]\n"
     ]
    }
   ],
   "source": [
    "newList = list(filter(lambda x: x&1==0,l))\n",
    "print(newList)"
   ]
  },
  {
   "cell_type": "markdown",
   "id": "daa885f6-e1eb-433e-b55e-86c7ce832594",
   "metadata": {},
   "source": [
    "# Dictionary"
   ]
  },
  {
   "cell_type": "code",
   "execution_count": 33,
   "id": "e927c7bb-5c04-4136-bcae-88244cc4b9e9",
   "metadata": {},
   "outputs": [
    {
     "name": "stdout",
     "output_type": "stream",
     "text": [
      "<class 'dict'>\n"
     ]
    }
   ],
   "source": [
    "d ={}\n",
    "print(type(d))"
   ]
  },
  {
   "cell_type": "code",
   "execution_count": 40,
   "id": "555d63b8-bfc6-4636-a843-7d3b664df652",
   "metadata": {},
   "outputs": [
    {
     "name": "stdout",
     "output_type": "stream",
     "text": [
      "{'name': 'sohan', 'age': 19}\n",
      "sohan sohan\n"
     ]
    }
   ],
   "source": [
    "d['name']=\"sohan\"\n",
    "d['age']=19\n",
    "print(d) # print whole dict\n",
    "\n",
    "print(d['name'],d.get('name'))"
   ]
  },
  {
   "cell_type": "code",
   "execution_count": 41,
   "id": "37ab1512-b2b5-4856-9756-2575c3720b60",
   "metadata": {},
   "outputs": [
    {
     "name": "stdout",
     "output_type": "stream",
     "text": [
      "name sohan\n",
      "age 19\n"
     ]
    }
   ],
   "source": [
    "for key,value in d.items():\n",
    "    print(key,value)"
   ]
  },
  {
   "cell_type": "code",
   "execution_count": 43,
   "id": "6921b21b-5cb0-472b-b967-b9fc7e598771",
   "metadata": {},
   "outputs": [
    {
     "name": "stdout",
     "output_type": "stream",
     "text": [
      "dict_keys(['name', 'age'])\n",
      "dict_values(['sohan', 19])\n"
     ]
    }
   ],
   "source": [
    "print(d.keys())\n",
    "print(d.values())"
   ]
  },
  {
   "cell_type": "code",
   "execution_count": 44,
   "id": "e528d0f7-7688-46d0-8fc1-60c9cdad5ab5",
   "metadata": {},
   "outputs": [
    {
     "name": "stdout",
     "output_type": "stream",
     "text": [
      "38\n"
     ]
    }
   ],
   "source": [
    "#sum of list\n",
    "l=[2,10,11,15]\n",
    "ans =0\n",
    "for i in l:\n",
    "    ans+=i\n",
    "print(ans)"
   ]
  },
  {
   "cell_type": "code",
   "execution_count": 45,
   "id": "1fc17816-d295-46ae-93a3-900cc333e6d4",
   "metadata": {},
   "outputs": [
    {
     "name": "stdout",
     "output_type": "stream",
     "text": [
      "114\n"
     ]
    }
   ],
   "source": [
    "#sum of 2DList\n",
    "l=[[5,10,11],\n",
    "      [2,6,13],\n",
    "      [19,31,17]]\n",
    "ans =0\n",
    "for i in range(len(l)):\n",
    "    temp = l[i]\n",
    "    for j in temp:\n",
    "        ans+= j\n",
    "print(ans)"
   ]
  },
  {
   "cell_type": "code",
   "execution_count": 3,
   "id": "8a982d10-852b-4780-b814-a871dff5629f",
   "metadata": {},
   "outputs": [
    {
     "name": "stdout",
     "output_type": "stream",
     "text": [
      "Not Palindrome\n"
     ]
    }
   ],
   "source": [
    "l=[1,2,3,4,5,5,4,3,2]\n",
    "n= len(l)\n",
    "flag =False\n",
    "for i in range(n//2):\n",
    "    if(l[i] != l[n-1-i]):\n",
    "        print(\"Not Palindrome\")\n",
    "        flag= True\n",
    "        break\n",
    "if(flag ==False):\n",
    "    print(\"Palindrome\")"
   ]
  },
  {
   "cell_type": "code",
   "execution_count": null,
   "id": "60c4ca4c-dd2d-4297-8961-d0cc91d503ee",
   "metadata": {},
   "outputs": [],
   "source": []
  }
 ],
 "metadata": {
  "kernelspec": {
   "display_name": "Python 3 (ipykernel)",
   "language": "python",
   "name": "python3"
  },
  "language_info": {
   "codemirror_mode": {
    "name": "ipython",
    "version": 3
   },
   "file_extension": ".py",
   "mimetype": "text/x-python",
   "name": "python",
   "nbconvert_exporter": "python",
   "pygments_lexer": "ipython3",
   "version": "3.11.5"
  }
 },
 "nbformat": 4,
 "nbformat_minor": 5
}
