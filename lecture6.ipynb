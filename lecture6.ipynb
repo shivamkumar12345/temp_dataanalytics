{
 "cells": [
  {
   "cell_type": "code",
   "execution_count": 2,
   "id": "cd996df6-3f5c-4ddb-b86d-01bfa9c695a1",
   "metadata": {},
   "outputs": [],
   "source": [
    "import numpy as np\n",
    "\n"
   ]
  },
  {
   "cell_type": "code",
   "execution_count": 3,
   "id": "6255f04d-ce4a-4116-ac10-af9983bddb9f",
   "metadata": {},
   "outputs": [],
   "source": [
    "# help(np)"
   ]
  },
  {
   "cell_type": "code",
   "execution_count": 7,
   "id": "4736dcf2-52fa-4801-891e-3d5ce1d3c90c",
   "metadata": {},
   "outputs": [
    {
     "name": "stdout",
     "output_type": "stream",
     "text": [
      "<class 'list'>\n",
      "<class 'numpy.ndarray'>\n",
      "[1 2 3 4 5 6 7]\n"
     ]
    }
   ],
   "source": [
    "# numpy array\n",
    "l= [1,2,3,4,5,6,7]\n",
    "print(type(l))\n",
    "\n",
    "arr = np.array(l)\n",
    "print(type(arr))\n",
    "print(arr)"
   ]
  },
  {
   "cell_type": "code",
   "execution_count": 9,
   "id": "fce7fc29-afc2-4de3-a7f9-07737ee3ea8a",
   "metadata": {},
   "outputs": [
    {
     "name": "stdout",
     "output_type": "stream",
     "text": [
      "1\n",
      "2\n"
     ]
    }
   ],
   "source": [
    "#dimension\n",
    "print(arr.ndim)\n",
    "l = [[1,2,3],[4,5,6]]\n",
    "arr2 = np.array(l)\n",
    "print(arr2.ndim)"
   ]
  },
  {
   "cell_type": "code",
   "execution_count": 11,
   "id": "0428c728-0162-4de9-b327-6f0ef67adc42",
   "metadata": {},
   "outputs": [
    {
     "name": "stdout",
     "output_type": "stream",
     "text": [
      "(7,)\n",
      "(2, 3)\n"
     ]
    }
   ],
   "source": [
    "#shape\n",
    "print(arr.shape)\n",
    "print(arr2.shape)"
   ]
  },
  {
   "cell_type": "code",
   "execution_count": 12,
   "id": "23bdd7d4-1d1e-492a-8856-8a37917395a0",
   "metadata": {},
   "outputs": [
    {
     "name": "stdout",
     "output_type": "stream",
     "text": [
      "3\n"
     ]
    }
   ],
   "source": [
    "#indexing of 1-dim\n",
    "print(arr[2])"
   ]
  },
  {
   "cell_type": "code",
   "execution_count": 13,
   "id": "fa448859-8c3e-4fd2-b0f9-3f269b23b9fa",
   "metadata": {},
   "outputs": [
    {
     "name": "stdout",
     "output_type": "stream",
     "text": [
      "6\n"
     ]
    }
   ],
   "source": [
    "#indexing of 2-dimn\n",
    "print(arr2[1,2])"
   ]
  },
  {
   "cell_type": "code",
   "execution_count": 14,
   "id": "ae8b3e93-b407-43bf-840b-98ae43bec2c7",
   "metadata": {},
   "outputs": [
    {
     "name": "stdout",
     "output_type": "stream",
     "text": [
      "[2 5]\n"
     ]
    }
   ],
   "source": [
    "print(arr2[:,1])"
   ]
  },
  {
   "cell_type": "code",
   "execution_count": 15,
   "id": "2d5e7031-cf77-43ff-8aec-56078c18fa73",
   "metadata": {},
   "outputs": [
    {
     "name": "stdout",
     "output_type": "stream",
     "text": [
      "[[1 2]\n",
      " [4 5]]\n"
     ]
    }
   ],
   "source": [
    "print(arr2[:,0:2])"
   ]
  },
  {
   "cell_type": "code",
   "execution_count": 19,
   "id": "5f80dffb-6ddb-4bea-a37b-248855237bee",
   "metadata": {},
   "outputs": [
    {
     "name": "stdout",
     "output_type": "stream",
     "text": [
      "[[ 3  2  1]\n",
      " [ 7  6  5]\n",
      " [10  9  8]]\n"
     ]
    }
   ],
   "source": [
    "arr2= np.array([[1,2,3],[5,6,7],[8,9,10]])\n",
    "arr3 = arr2\n",
    "arr3[:,2::-2] = arr2[:,0::2]\n",
    "arr3[:,1::2] = arr2[:,1::2]\n",
    "print(arr3)"
   ]
  },
  {
   "cell_type": "code",
   "execution_count": 25,
   "id": "3fc5a984-92e7-4b62-bfb8-e8b77616e6c7",
   "metadata": {},
   "outputs": [
    {
     "name": "stdout",
     "output_type": "stream",
     "text": [
      "1 2 3 4 5 \n",
      "1 2 3 4 5 "
     ]
    }
   ],
   "source": [
    "# for loop in numpy\n",
    "arr1= np.array([1,2,3,4,5])\n",
    "for i in arr1:\n",
    "    print(i,end=\" \")\n",
    "\n",
    "# print(arr1.size)\n",
    "print()\n",
    "for i in range(arr1.size):\n",
    "    print(arr1[i],end=\" \")"
   ]
  },
  {
   "cell_type": "code",
   "execution_count": 38,
   "id": "36fd66b5-950b-48e7-81a1-8534bfcaf113",
   "metadata": {},
   "outputs": [
    {
     "name": "stdout",
     "output_type": "stream",
     "text": [
      "1 2 3\n",
      "5 6 7\n",
      "8 9 10\n"
     ]
    }
   ],
   "source": [
    "arr2= np.array([[1,2,3],[5,6,7],[8,9,10]])\n",
    "\n",
    "# for i in arr2:\n",
    "#     for j in i:\n",
    "#         print(j,end=\" \")\n",
    "#     print()\n",
    "for i in arr2:\n",
    "    print(*i) # destructuring\n"
   ]
  },
  {
   "cell_type": "code",
   "execution_count": 34,
   "id": "3d5b1daa-9c58-4438-babb-a515a9751f57",
   "metadata": {},
   "outputs": [
    {
     "name": "stdout",
     "output_type": "stream",
     "text": [
      "1\n",
      "2\n",
      "3\n",
      "5\n",
      "6\n",
      "7\n",
      "8\n",
      "9\n",
      "10\n"
     ]
    }
   ],
   "source": [
    "#for loop using nditer\n",
    "for i in np.nditer(arr2):\n",
    "    print(i)"
   ]
  },
  {
   "cell_type": "code",
   "execution_count": 39,
   "id": "292e7aed-7ceb-4ca1-8337-79aa5ab077f3",
   "metadata": {},
   "outputs": [
    {
     "name": "stdout",
     "output_type": "stream",
     "text": [
      "((0, 0), 1)\n",
      "((0, 1), 2)\n",
      "((0, 2), 3)\n",
      "((1, 0), 5)\n",
      "((1, 1), 6)\n",
      "((1, 2), 7)\n",
      "((2, 0), 8)\n",
      "((2, 1), 9)\n",
      "((2, 2), 10)\n"
     ]
    }
   ],
   "source": [
    "# for loop using ndenumerate\n",
    "for i in np.ndenumerate(arr2):\n",
    "    print(i)"
   ]
  },
  {
   "cell_type": "code",
   "execution_count": 45,
   "id": "27138618-ce2c-4fda-8488-98486ee84855",
   "metadata": {},
   "outputs": [
    {
     "name": "stdout",
     "output_type": "stream",
     "text": [
      "float32\n",
      "<class 'numpy.ndarray'>\n",
      "[5. 6. 7.]\n"
     ]
    }
   ],
   "source": [
    "t= (5,6,7)\n",
    "arr = np.array(t,dtype='f')\n",
    "print(arr.dtype)\n",
    "print(type(arr))\n",
    "print(arr)"
   ]
  },
  {
   "cell_type": "code",
   "execution_count": 51,
   "id": "9bb62176-7669-4e12-a180-34a4b2043a5a",
   "metadata": {},
   "outputs": [
    {
     "name": "stdout",
     "output_type": "stream",
     "text": [
      "[[1 1 1]\n",
      " [1 1 1]]\n",
      "[[0 0 0]\n",
      " [0 0 0]]\n"
     ]
    }
   ],
   "source": [
    "#creating array\n",
    "arr = np.ones((2,3),dtype='i')\n",
    "print(arr)\n",
    "\n",
    "arr = np.zeros((2,3),dtype='i')\n",
    "print(arr)"
   ]
  },
  {
   "cell_type": "code",
   "execution_count": 5,
   "id": "0ae6dc2b-26cc-4b73-8e9f-5f33dcd05b3d",
   "metadata": {},
   "outputs": [
    {
     "name": "stdout",
     "output_type": "stream",
     "text": [
      "[[2. 2. 2. 2. 2.]\n",
      " [2. 2. 2. 2. 2.]\n",
      " [2. 2. 2. 2. 2.]\n",
      " [2. 2. 2. 2. 2.]\n",
      " [2. 2. 2. 2. 2.]]\n"
     ]
    }
   ],
   "source": [
    "arr = np.zeros((5,5))\n",
    "arr.fill(2)\n",
    "print(arr)"
   ]
  },
  {
   "cell_type": "code",
   "execution_count": 61,
   "id": "a1bbfdd2-9867-44f6-a188-f2393f045b3b",
   "metadata": {},
   "outputs": [
    {
     "name": "stdout",
     "output_type": "stream",
     "text": [
      "[4.66666667 5.66666667 6.66666667]\n"
     ]
    }
   ],
   "source": [
    "arr2= np.array([[1,2,3],[5,6,7],[8,9,10]])\n",
    "x =arr2.mean(axis =0)\n",
    "print(x)"
   ]
  },
  {
   "cell_type": "code",
   "execution_count": 7,
   "id": "4b185ac4-793f-4222-9462-200a94dbfab5",
   "metadata": {},
   "outputs": [
    {
     "name": "stdout",
     "output_type": "stream",
     "text": [
      "[[43.22188634 37.2325236  93.14318529]\n",
      " [68.51796463  4.38818023 89.979039  ]]\n"
     ]
    }
   ],
   "source": [
    "#creating array with random value\n",
    "arr = np.random.random((2,3))\n",
    "print(arr*100)\n"
   ]
  },
  {
   "cell_type": "code",
   "execution_count": 66,
   "id": "ef5f9756-5cba-4baa-9d46-56615f9fb744",
   "metadata": {},
   "outputs": [
    {
     "name": "stdout",
     "output_type": "stream",
     "text": [
      "[[69 63 76]\n",
      " [67 94 55]]\n"
     ]
    }
   ],
   "source": [
    "x= np.random.randint(50,100,6)\n",
    "print(x.reshape(2,3))"
   ]
  },
  {
   "cell_type": "code",
   "execution_count": 67,
   "id": "c938bd47-db5f-4e54-bd70-807fefc6039b",
   "metadata": {},
   "outputs": [
    {
     "name": "stdout",
     "output_type": "stream",
     "text": [
      "[0.88447802 0.55904108 0.13755705 0.38748629 0.10529512 0.13368767]\n"
     ]
    }
   ],
   "source": [
    "#flatten\n",
    "arr1 =arr.flatten()\n",
    "print(arr1)"
   ]
  },
  {
   "cell_type": "code",
   "execution_count": 68,
   "id": "ef9048bc-673b-465a-9775-d7f923fd08fa",
   "metadata": {},
   "outputs": [
    {
     "name": "stdout",
     "output_type": "stream",
     "text": [
      "[5 7 9]\n"
     ]
    }
   ],
   "source": [
    "arr = np.arange(5,10,2)\n",
    "print(arr)"
   ]
  },
  {
   "cell_type": "code",
   "execution_count": null,
   "id": "e9d372fa-78b9-41ae-a99a-f29d125cf358",
   "metadata": {},
   "outputs": [],
   "source": []
  }
 ],
 "metadata": {
  "kernelspec": {
   "display_name": "Python 3 (ipykernel)",
   "language": "python",
   "name": "python3"
  },
  "language_info": {
   "codemirror_mode": {
    "name": "ipython",
    "version": 3
   },
   "file_extension": ".py",
   "mimetype": "text/x-python",
   "name": "python",
   "nbconvert_exporter": "python",
   "pygments_lexer": "ipython3",
   "version": "3.11.5"
  }
 },
 "nbformat": 4,
 "nbformat_minor": 5
}
