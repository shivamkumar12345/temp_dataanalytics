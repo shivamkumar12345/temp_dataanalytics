{
 "cells": [
  {
   "cell_type": "code",
   "execution_count": 2,
   "id": "131d39f0-9e1e-4d84-980e-043012022ff4",
   "metadata": {},
   "outputs": [
    {
     "name": "stdout",
     "output_type": "stream",
     "text": [
      "['helo', 'great'] [1, 2, 100]\n"
     ]
    }
   ],
   "source": [
    "l=[1,2,'helo','great',100]\n",
    "l1=[]\n",
    "l2=[]\n",
    "\n",
    "for i in l:\n",
    "    if(isinstance(i, str)):\n",
    "        l1.append(i)\n",
    "    elif (isinstance(i, int)):\n",
    "        l2.append(i)\n",
    "print(l1,l2)"
   ]
  },
  {
   "cell_type": "code",
   "execution_count": 2,
   "id": "3d32ace0-df2f-4989-9225-e9aa50605a2c",
   "metadata": {},
   "outputs": [
    {
     "name": "stdout",
     "output_type": "stream",
     "text": [
      "5\n"
     ]
    }
   ],
   "source": [
    "l=[1,2,3,4,1,3,4,2,8,4]\n",
    "s= set(l)\n",
    "print(len(s))"
   ]
  },
  {
   "cell_type": "code",
   "execution_count": 3,
   "id": "539281e1-42cf-4ba9-b7bd-3f2ea564e5b4",
   "metadata": {},
   "outputs": [
    {
     "name": "stdin",
     "output_type": "stream",
     "text": [
      "Enter a number 5\n",
      "Enter a number 1\n",
      "Enter a number 2\n",
      "Enter a number 1\n",
      "Enter a number 3\n",
      "Enter a number 2\n"
     ]
    },
    {
     "name": "stdout",
     "output_type": "stream",
     "text": [
      "3\n"
     ]
    }
   ],
   "source": [
    "n = int(input(\"Enter a number\"))\n",
    "s= set()\n",
    "while(n>0):\n",
    "    n-=1\n",
    "    x= int(input(\"Enter a number\"))\n",
    "    s.add(x)\n",
    "print(len(s))"
   ]
  },
  {
   "cell_type": "code",
   "execution_count": 8,
   "id": "270adf36-0989-4d6b-a5eb-fcee08773458",
   "metadata": {},
   "outputs": [
    {
     "name": "stdout",
     "output_type": "stream",
     "text": [
      "[2, 3, 5, 9, 11, 17] [2, 9, 5, 11, 17, 3]\n",
      "[2, 3, 5, 9, 11, 17]\n"
     ]
    }
   ],
   "source": [
    "l=[2,9,5,11,17,3]\n",
    "newList =sorted(l)\n",
    "print(newList,l)\n",
    "l.sort()\n",
    "print(l)"
   ]
  },
  {
   "cell_type": "code",
   "execution_count": 15,
   "id": "94f4bb5f-6cb1-441d-8dcd-a068be8e8f64",
   "metadata": {},
   "outputs": [
    {
     "name": "stdout",
     "output_type": "stream",
     "text": [
      "['shyam', 'sita', 'ram']\n"
     ]
    }
   ],
   "source": [
    "def lenFun(s):\n",
    "    return -1*len(s)\n",
    "\n",
    "l=['shyam','ram','sita']\n",
    "l.sort(key=lenFun)\n",
    "print(l)"
   ]
  },
  {
   "cell_type": "code",
   "execution_count": null,
   "id": "99c202bf-0b5d-4d98-b260-d7aefc666af6",
   "metadata": {},
   "outputs": [],
   "source": []
  }
 ],
 "metadata": {
  "kernelspec": {
   "display_name": "Python 3 (ipykernel)",
   "language": "python",
   "name": "python3"
  },
  "language_info": {
   "codemirror_mode": {
    "name": "ipython",
    "version": 3
   },
   "file_extension": ".py",
   "mimetype": "text/x-python",
   "name": "python",
   "nbconvert_exporter": "python",
   "pygments_lexer": "ipython3",
   "version": "3.11.5"
  }
 },
 "nbformat": 4,
 "nbformat_minor": 5
}
