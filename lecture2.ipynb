{
 "cells": [
  {
   "cell_type": "code",
   "execution_count": 4,
   "id": "ab0a0fe7-9211-478b-a785-a3e5a511fed0",
   "metadata": {},
   "outputs": [
    {
     "name": "stdout",
     "output_type": "stream",
     "text": [
      "20 10\n"
     ]
    }
   ],
   "source": [
    "#swap two number\n",
    "a= 10\n",
    "b= 20\n",
    "# c= a\n",
    "# a= b\n",
    "# b= c\n",
    "# print(a,b)\n",
    "\n",
    "# a= a^b\n",
    "# b= a^b\n",
    "# a = a^b\n",
    "# print(a,b)\n",
    "\n",
    "a,b = b,a\n",
    "print(a,b)"
   ]
  },
  {
   "cell_type": "code",
   "execution_count": 1,
   "id": "c53e532a-fc08-43a7-84fc-e8fa1bdf8157",
   "metadata": {},
   "outputs": [
    {
     "name": "stdin",
     "output_type": "stream",
     "text": [
      "Enter a number 99\n"
     ]
    },
    {
     "name": "stdout",
     "output_type": "stream",
     "text": [
      "Not Prime Number\n"
     ]
    }
   ],
   "source": [
    "#prime number\n",
    "n= int(input(\"Enter a number\"))\n",
    "i=2\n",
    "isPrime = True\n",
    "while(i*i<n):\n",
    "    if(n%i ==0):\n",
    "        isPrime = False\n",
    "        break\n",
    "    i +=1\n",
    "\n",
    "if(isPrime):\n",
    "    print(\"Prime number\")\n",
    "else:\n",
    "    print(\"Not Prime Number\")"
   ]
  },
  {
   "cell_type": "code",
   "execution_count": 3,
   "id": "11565143-fa1c-4280-a3a1-c733ac65bba4",
   "metadata": {},
   "outputs": [
    {
     "name": "stdin",
     "output_type": "stream",
     "text": [
      "Enter  a number 12\n"
     ]
    },
    {
     "name": "stdout",
     "output_type": "stream",
     "text": [
      "1\n",
      "2\n",
      "3\n",
      "4\n",
      "6\n",
      "12\n"
     ]
    }
   ],
   "source": [
    "n= int(input(\"Enter  a number\"))\n",
    "for i in range(1,n+1):\n",
    "    if(n%i==0):\n",
    "        print(i)"
   ]
  },
  {
   "cell_type": "code",
   "execution_count": 5,
   "id": "4f623bbd-821d-41d8-b8ef-6327654d9785",
   "metadata": {},
   "outputs": [
    {
     "name": "stdout",
     "output_type": "stream",
     "text": [
      "* \n",
      "* * \n",
      "* * * \n",
      "* * * * \n",
      "* * * * * \n"
     ]
    }
   ],
   "source": [
    "n = 5\n",
    "for i in range(1,n+1):\n",
    "    # print('*'*i)\n",
    "    for star in range(i):\n",
    "        print('*',end=' ')\n",
    "    print()\n",
    "    "
   ]
  },
  {
   "cell_type": "code",
   "execution_count": 6,
   "id": "4ad74e03-10f9-4a31-87a2-02a7213f9052",
   "metadata": {},
   "outputs": [
    {
     "name": "stdout",
     "output_type": "stream",
     "text": [
      "6\n"
     ]
    }
   ],
   "source": [
    "#function\n",
    "def addition(a,b,c=0): # c is optional\n",
    "    sum= a+b+c\n",
    "    return sum\n",
    "ans =addition(2,4,3)\n",
    "print(ans)\n",
    "ans1 = addition(5,9)\n",
    "print(ans1)"
   ]
  },
  {
   "cell_type": "code",
   "execution_count": 7,
   "id": "3349e45e-b30f-4274-a8d2-881c632279d9",
   "metadata": {},
   "outputs": [
    {
     "name": "stdout",
     "output_type": "stream",
     "text": [
      "54321\n"
     ]
    }
   ],
   "source": [
    "def reverseDigit(n):\n",
    "    rev =0\n",
    "    while(n>0):\n",
    "        rem = n%10\n",
    "        rev= rev*10 + rem\n",
    "        n = n//10\n",
    "    return rev\n",
    "ans =reverseDigit(12345)\n",
    "print(ans)"
   ]
  },
  {
   "cell_type": "code",
   "execution_count": 14,
   "id": "5816ab94-d616-4e21-aec6-0d5b902f6826",
   "metadata": {},
   "outputs": [
    {
     "name": "stdout",
     "output_type": "stream",
     "text": [
      "13\n",
      "oigbok\n",
      "c o d i n g   b l o c k s "
     ]
    }
   ],
   "source": [
    "str = \"coding blocks\"\n",
    "print(len(str))\n",
    "odd =\"\"\n",
    "for i in range(1,len(str)):\n",
    "    if(i&1):\n",
    "        odd+=str[i]\n",
    "print(odd)\n",
    "for i in str:\n",
    "    print(i,end=\" \")"
   ]
  },
  {
   "cell_type": "code",
   "execution_count": 18,
   "id": "abd41684-9cd8-4a2c-9e61-b2098bd400f2",
   "metadata": {},
   "outputs": [
    {
     "name": "stdout",
     "output_type": "stream",
     "text": [
      "oig\n",
      "gnidoc\n"
     ]
    }
   ],
   "source": [
    "str= \"coding\"\n",
    "odd = str[1::2]\n",
    "print(odd)\n",
    "#reverse\n",
    "rev= str[-1::-1]\n",
    "print(rev)"
   ]
  },
  {
   "cell_type": "code",
   "execution_count": 19,
   "id": "8b08b25c-76ac-4b15-b9e6-f2c4eb186af4",
   "metadata": {},
   "outputs": [
    {
     "name": "stdout",
     "output_type": "stream",
     "text": [
      "gnidoc skcolb\n"
     ]
    }
   ],
   "source": [
    "str =\"coding blocks\"\n",
    "rev = str[5::-1] + \" \" + str[-1:6:-1]\n",
    "print(rev)"
   ]
  },
  {
   "cell_type": "code",
   "execution_count": null,
   "id": "d0f67172-c149-4f4d-b394-d94860498145",
   "metadata": {},
   "outputs": [],
   "source": [
    "str= \"abcbca\"\n",
    "rev = str[-1::-1]\n",
    "if(str == rev):\n",
    "    print(\"palindrome\")\n",
    "else:\n",
    "    print(\"not a palindrome\")"
   ]
  }
 ],
 "metadata": {
  "kernelspec": {
   "display_name": "Python 3 (ipykernel)",
   "language": "python",
   "name": "python3"
  },
  "language_info": {
   "codemirror_mode": {
    "name": "ipython",
    "version": 3
   },
   "file_extension": ".py",
   "mimetype": "text/x-python",
   "name": "python",
   "nbconvert_exporter": "python",
   "pygments_lexer": "ipython3",
   "version": "3.11.5"
  }
 },
 "nbformat": 4,
 "nbformat_minor": 5
}
